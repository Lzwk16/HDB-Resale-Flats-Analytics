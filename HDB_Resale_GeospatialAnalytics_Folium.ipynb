{
 "cells": [
  {
   "cell_type": "markdown",
   "metadata": {},
   "source": [
    " "
   ]
  },
  {
   "cell_type": "markdown",
   "metadata": {},
   "source": [
    "1.HDB Resale Data Analytics\n",
    "===\n",
    "---"
   ]
  },
  {
   "cell_type": "markdown",
   "metadata": {},
   "source": [
    "1a. Background of HDB Resale Capstone Project\n",
    "---\n",
    "\n",
    "Getting a HDB is probably one of the biggest financial decisions many Singaporeans have to make, given its exhorbitant cost. Making a wrong decision could set you back several years in terms of opportunity cost & time value of money. \n",
    "\n",
    "\n",
    "\n",
    "In this project, we seek to build data visualisation to shed light on the HDB resale market, and provide key consideration parameters to help us make better decisions in choosing a: <br>\n",
    "\n",
    "(1) HDB Resale flat, or <br>\n",
    "(2) BTO flats that are likely to appreciate in the resale market"
   ]
  },
  {
   "cell_type": "markdown",
   "metadata": {},
   "source": [
    "1b. Loading the Dataset\n",
    "---\n",
    "\n",
    "Loading the CSV data of Singapore HDB listings (73320 rows × 14 columns) into a nested list, <code>hdb_resale_listings</code>.\n"
   ]
  },
  {
   "cell_type": "code",
   "execution_count": 1,
   "metadata": {},
   "outputs": [
    {
     "name": "stdout",
     "output_type": "stream",
     "text": [
      "['2017-01', 'ANG MO KIO', '2 ROOM', '406', 'ANG MO KIO AVE 10', '10 TO 12', '44', 'Improved', '1979', '61 years 04 months', '232000', '406 ANG MO KIO AVE 10', '103.8538799', '1.362004539']\n"
     ]
    }
   ],
   "source": [
    "# Run this cell to load the HDB listings data into a nested list\n",
    "\n",
    "import csv\n",
    "\n",
    "hdb_resale_listings = []\n",
    "\n",
    "with open('.jupyter/HDB_Resale_With_Geocoordinates.csv', newline='', encoding=\"utf8\") as f:\n",
    "    reader = csv.reader(f)\n",
    "    for row in reader:\n",
    "        hdb_resale_listings.append(row)\n",
    "\n",
    "    # Remove header\n",
    "    hdb_resale_listings_headers = hdb_resale_listings[0]\n",
    "    hdb_resale_listings = hdb_resale_listings[1:]\n",
    "    \n",
    "print(hdb_resale_listings[0]) # Print first row of data"
   ]
  },
  {
   "cell_type": "markdown",
   "metadata": {},
   "source": [
    "For visualisation purpose, a snippet of the <code>hdb_resale_listings</code> nested list is displayed in a tabular format. "
   ]
  },
  {
   "cell_type": "code",
   "execution_count": 3,
   "metadata": {},
   "outputs": [
    {
     "data": {
      "text/html": [
       "<div>\n",
       "<style scoped>\n",
       "    .dataframe tbody tr th:only-of-type {\n",
       "        vertical-align: middle;\n",
       "    }\n",
       "\n",
       "    .dataframe tbody tr th {\n",
       "        vertical-align: top;\n",
       "    }\n",
       "\n",
       "    .dataframe thead th {\n",
       "        text-align: right;\n",
       "    }\n",
       "</style>\n",
       "<table border=\"1\" class=\"dataframe\">\n",
       "  <thead>\n",
       "    <tr style=\"text-align: right;\">\n",
       "      <th></th>\n",
       "      <th>month</th>\n",
       "      <th>town</th>\n",
       "      <th>flat_type</th>\n",
       "      <th>block</th>\n",
       "      <th>street_name</th>\n",
       "      <th>storey_range</th>\n",
       "      <th>floor_area_sqm</th>\n",
       "      <th>flat_model</th>\n",
       "      <th>lease_commence_date</th>\n",
       "      <th>remaining_lease</th>\n",
       "      <th>resale_price</th>\n",
       "      <th>address</th>\n",
       "      <th>Longitude</th>\n",
       "      <th>Latitude</th>\n",
       "    </tr>\n",
       "  </thead>\n",
       "  <tbody>\n",
       "    <tr>\n",
       "      <th>0</th>\n",
       "      <td>2017-01</td>\n",
       "      <td>ANG MO KIO</td>\n",
       "      <td>2 ROOM</td>\n",
       "      <td>406</td>\n",
       "      <td>ANG MO KIO AVE 10</td>\n",
       "      <td>10 TO 12</td>\n",
       "      <td>44.0</td>\n",
       "      <td>Improved</td>\n",
       "      <td>1979</td>\n",
       "      <td>61 years 04 months</td>\n",
       "      <td>232000.0</td>\n",
       "      <td>406 ANG MO KIO AVE 10</td>\n",
       "      <td>103.853880</td>\n",
       "      <td>1.362005</td>\n",
       "    </tr>\n",
       "    <tr>\n",
       "      <th>1</th>\n",
       "      <td>2017-01</td>\n",
       "      <td>ANG MO KIO</td>\n",
       "      <td>3 ROOM</td>\n",
       "      <td>108</td>\n",
       "      <td>ANG MO KIO AVE 4</td>\n",
       "      <td>01 TO 03</td>\n",
       "      <td>67.0</td>\n",
       "      <td>New Generation</td>\n",
       "      <td>1978</td>\n",
       "      <td>60 years 07 months</td>\n",
       "      <td>250000.0</td>\n",
       "      <td>108 ANG MO KIO AVE 4</td>\n",
       "      <td>103.838202</td>\n",
       "      <td>1.370966</td>\n",
       "    </tr>\n",
       "    <tr>\n",
       "      <th>2</th>\n",
       "      <td>2017-01</td>\n",
       "      <td>ANG MO KIO</td>\n",
       "      <td>3 ROOM</td>\n",
       "      <td>602</td>\n",
       "      <td>ANG MO KIO AVE 5</td>\n",
       "      <td>01 TO 03</td>\n",
       "      <td>67.0</td>\n",
       "      <td>New Generation</td>\n",
       "      <td>1980</td>\n",
       "      <td>62 years 05 months</td>\n",
       "      <td>262000.0</td>\n",
       "      <td>602 ANG MO KIO AVE 5</td>\n",
       "      <td>103.835368</td>\n",
       "      <td>1.380709</td>\n",
       "    </tr>\n",
       "    <tr>\n",
       "      <th>3</th>\n",
       "      <td>2017-01</td>\n",
       "      <td>ANG MO KIO</td>\n",
       "      <td>3 ROOM</td>\n",
       "      <td>465</td>\n",
       "      <td>ANG MO KIO AVE 10</td>\n",
       "      <td>04 TO 06</td>\n",
       "      <td>68.0</td>\n",
       "      <td>New Generation</td>\n",
       "      <td>1980</td>\n",
       "      <td>62 years 01 month</td>\n",
       "      <td>265000.0</td>\n",
       "      <td>465 ANG MO KIO AVE 10</td>\n",
       "      <td>103.857201</td>\n",
       "      <td>1.366201</td>\n",
       "    </tr>\n",
       "    <tr>\n",
       "      <th>4</th>\n",
       "      <td>2017-01</td>\n",
       "      <td>ANG MO KIO</td>\n",
       "      <td>3 ROOM</td>\n",
       "      <td>601</td>\n",
       "      <td>ANG MO KIO AVE 5</td>\n",
       "      <td>01 TO 03</td>\n",
       "      <td>67.0</td>\n",
       "      <td>New Generation</td>\n",
       "      <td>1980</td>\n",
       "      <td>62 years 05 months</td>\n",
       "      <td>265000.0</td>\n",
       "      <td>601 ANG MO KIO AVE 5</td>\n",
       "      <td>103.835132</td>\n",
       "      <td>1.381041</td>\n",
       "    </tr>\n",
       "    <tr>\n",
       "      <th>...</th>\n",
       "      <td>...</td>\n",
       "      <td>...</td>\n",
       "      <td>...</td>\n",
       "      <td>...</td>\n",
       "      <td>...</td>\n",
       "      <td>...</td>\n",
       "      <td>...</td>\n",
       "      <td>...</td>\n",
       "      <td>...</td>\n",
       "      <td>...</td>\n",
       "      <td>...</td>\n",
       "      <td>...</td>\n",
       "      <td>...</td>\n",
       "      <td>...</td>\n",
       "    </tr>\n",
       "    <tr>\n",
       "      <th>73315</th>\n",
       "      <td>2020-06</td>\n",
       "      <td>YISHUN</td>\n",
       "      <td>EXECUTIVE</td>\n",
       "      <td>326</td>\n",
       "      <td>YISHUN RING RD</td>\n",
       "      <td>07 TO 09</td>\n",
       "      <td>146.0</td>\n",
       "      <td>Maisonette</td>\n",
       "      <td>1988</td>\n",
       "      <td>67 years 03 months</td>\n",
       "      <td>590000.0</td>\n",
       "      <td>326 YISHUN RING RD</td>\n",
       "      <td>103.842440</td>\n",
       "      <td>1.429551</td>\n",
       "    </tr>\n",
       "    <tr>\n",
       "      <th>73316</th>\n",
       "      <td>2020-06</td>\n",
       "      <td>YISHUN</td>\n",
       "      <td>EXECUTIVE</td>\n",
       "      <td>281</td>\n",
       "      <td>YISHUN ST 22</td>\n",
       "      <td>01 TO 03</td>\n",
       "      <td>152.0</td>\n",
       "      <td>Maisonette</td>\n",
       "      <td>1985</td>\n",
       "      <td>64 years 02 months</td>\n",
       "      <td>583000.0</td>\n",
       "      <td>281 YISHUN ST 22</td>\n",
       "      <td>103.837501</td>\n",
       "      <td>1.438965</td>\n",
       "    </tr>\n",
       "    <tr>\n",
       "      <th>73317</th>\n",
       "      <td>2020-06</td>\n",
       "      <td>YISHUN</td>\n",
       "      <td>EXECUTIVE</td>\n",
       "      <td>611</td>\n",
       "      <td>YISHUN ST 61</td>\n",
       "      <td>01 TO 03</td>\n",
       "      <td>142.0</td>\n",
       "      <td>Apartment</td>\n",
       "      <td>1987</td>\n",
       "      <td>66 years 08 months</td>\n",
       "      <td>550000.0</td>\n",
       "      <td>611 YISHUN ST 61</td>\n",
       "      <td>103.836153</td>\n",
       "      <td>1.420201</td>\n",
       "    </tr>\n",
       "    <tr>\n",
       "      <th>73318</th>\n",
       "      <td>2020-06</td>\n",
       "      <td>YISHUN</td>\n",
       "      <td>EXECUTIVE</td>\n",
       "      <td>611</td>\n",
       "      <td>YISHUN ST 61</td>\n",
       "      <td>07 TO 09</td>\n",
       "      <td>146.0</td>\n",
       "      <td>Maisonette</td>\n",
       "      <td>1987</td>\n",
       "      <td>66 years 07 months</td>\n",
       "      <td>595000.0</td>\n",
       "      <td>611 YISHUN ST 61</td>\n",
       "      <td>103.836153</td>\n",
       "      <td>1.420201</td>\n",
       "    </tr>\n",
       "    <tr>\n",
       "      <th>73319</th>\n",
       "      <td>2020-06</td>\n",
       "      <td>YISHUN</td>\n",
       "      <td>EXECUTIVE</td>\n",
       "      <td>828</td>\n",
       "      <td>YISHUN ST 81</td>\n",
       "      <td>04 TO 06</td>\n",
       "      <td>142.0</td>\n",
       "      <td>Apartment</td>\n",
       "      <td>1988</td>\n",
       "      <td>66 years 09 months</td>\n",
       "      <td>618000.0</td>\n",
       "      <td>828 YISHUN ST 81</td>\n",
       "      <td>103.832902</td>\n",
       "      <td>1.415191</td>\n",
       "    </tr>\n",
       "  </tbody>\n",
       "</table>\n",
       "<p>73320 rows × 14 columns</p>\n",
       "</div>"
      ],
      "text/plain": [
       "         month        town  flat_type block        street_name storey_range  \\\n",
       "0      2017-01  ANG MO KIO     2 ROOM   406  ANG MO KIO AVE 10     10 TO 12   \n",
       "1      2017-01  ANG MO KIO     3 ROOM   108   ANG MO KIO AVE 4     01 TO 03   \n",
       "2      2017-01  ANG MO KIO     3 ROOM   602   ANG MO KIO AVE 5     01 TO 03   \n",
       "3      2017-01  ANG MO KIO     3 ROOM   465  ANG MO KIO AVE 10     04 TO 06   \n",
       "4      2017-01  ANG MO KIO     3 ROOM   601   ANG MO KIO AVE 5     01 TO 03   \n",
       "...        ...         ...        ...   ...                ...          ...   \n",
       "73315  2020-06      YISHUN  EXECUTIVE   326     YISHUN RING RD     07 TO 09   \n",
       "73316  2020-06      YISHUN  EXECUTIVE   281       YISHUN ST 22     01 TO 03   \n",
       "73317  2020-06      YISHUN  EXECUTIVE   611       YISHUN ST 61     01 TO 03   \n",
       "73318  2020-06      YISHUN  EXECUTIVE   611       YISHUN ST 61     07 TO 09   \n",
       "73319  2020-06      YISHUN  EXECUTIVE   828       YISHUN ST 81     04 TO 06   \n",
       "\n",
       "       floor_area_sqm      flat_model  lease_commence_date  \\\n",
       "0                44.0        Improved                 1979   \n",
       "1                67.0  New Generation                 1978   \n",
       "2                67.0  New Generation                 1980   \n",
       "3                68.0  New Generation                 1980   \n",
       "4                67.0  New Generation                 1980   \n",
       "...               ...             ...                  ...   \n",
       "73315           146.0      Maisonette                 1988   \n",
       "73316           152.0      Maisonette                 1985   \n",
       "73317           142.0       Apartment                 1987   \n",
       "73318           146.0      Maisonette                 1987   \n",
       "73319           142.0       Apartment                 1988   \n",
       "\n",
       "          remaining_lease  resale_price                address   Longitude  \\\n",
       "0      61 years 04 months      232000.0  406 ANG MO KIO AVE 10  103.853880   \n",
       "1      60 years 07 months      250000.0   108 ANG MO KIO AVE 4  103.838202   \n",
       "2      62 years 05 months      262000.0   602 ANG MO KIO AVE 5  103.835368   \n",
       "3       62 years 01 month      265000.0  465 ANG MO KIO AVE 10  103.857201   \n",
       "4      62 years 05 months      265000.0   601 ANG MO KIO AVE 5  103.835132   \n",
       "...                   ...           ...                    ...         ...   \n",
       "73315  67 years 03 months      590000.0     326 YISHUN RING RD  103.842440   \n",
       "73316  64 years 02 months      583000.0       281 YISHUN ST 22  103.837501   \n",
       "73317  66 years 08 months      550000.0       611 YISHUN ST 61  103.836153   \n",
       "73318  66 years 07 months      595000.0       611 YISHUN ST 61  103.836153   \n",
       "73319  66 years 09 months      618000.0       828 YISHUN ST 81  103.832902   \n",
       "\n",
       "       Latitude  \n",
       "0      1.362005  \n",
       "1      1.370966  \n",
       "2      1.380709  \n",
       "3      1.366201  \n",
       "4      1.381041  \n",
       "...         ...  \n",
       "73315  1.429551  \n",
       "73316  1.438965  \n",
       "73317  1.420201  \n",
       "73318  1.420201  \n",
       "73319  1.415191  \n",
       "\n",
       "[73320 rows x 14 columns]"
      ]
     },
     "execution_count": 3,
     "metadata": {},
     "output_type": "execute_result"
    }
   ],
   "source": [
    "import pandas as pd\n",
    "\n",
    "hdb_resale_df = pd.read_csv(\".jupyter/HDB_Resale_With_Geocoordinates.csv\")\n",
    "hdb_resale_df"
   ]
  },
  {
   "cell_type": "markdown",
   "metadata": {},
   "source": [
    "1c. Data Cleaning\n",
    "---\n",
    "\n",
    "Data Columns that will be cleaned are as follows:\n",
    "- <code>floor_area_sqm</code> (convert to float)\n",
    "- <code>remaining_lease</code> (extract only the years & convert it to float)\n",
    "- <code>resale_price</code> (convert to float)\n",
    "- <code>longitude</code> (convert to float)\n",
    "- <code>latitude</code> (convert to float)\n",
    "\n"
   ]
  },
  {
   "cell_type": "code",
   "execution_count": 4,
   "metadata": {},
   "outputs": [
    {
     "name": "stdout",
     "output_type": "stream",
     "text": [
      "[['2017-01', 'ANG MO KIO', '2 ROOM', '406', 'ANG MO KIO AVE 10', '10 TO 12', 44.0, 'Improved', '1979', 61, 232000.0, '406 ANG MO KIO AVE 10', 103.8538799, 1.362004539], ['2017-01', 'ANG MO KIO', '3 ROOM', '108', 'ANG MO KIO AVE 4', '01 TO 03', 67.0, 'New Generation', '1978', 60, 250000.0, '108 ANG MO KIO AVE 4', 103.8382019, 1.370966352], ['2017-01', 'ANG MO KIO', '3 ROOM', '602', 'ANG MO KIO AVE 5', '01 TO 03', 67.0, 'New Generation', '1980', 62, 262000.0, '602 ANG MO KIO AVE 5', 103.8353682, 1.38070883], ['2017-01', 'ANG MO KIO', '3 ROOM', '465', 'ANG MO KIO AVE 10', '04 TO 06', 68.0, 'New Generation', '1980', 62, 265000.0, '465 ANG MO KIO AVE 10', 103.857201, 1.366201041], ['2017-01', 'ANG MO KIO', '3 ROOM', '601', 'ANG MO KIO AVE 5', '01 TO 03', 67.0, 'New Generation', '1980', 62, 265000.0, '601 ANG MO KIO AVE 5', 103.8351317, 1.381041355]]\n"
     ]
    }
   ],
   "source": [
    "# Run this cell of code to clean the csv dataset\n",
    "\n",
    "# Iterate through nested list of HDB resale data\n",
    "for row in hdb_resale_listings:\n",
    "    \n",
    "    # Extract data from specific columns and store into variables for easy access\n",
    "    floor_area_sqm = row[6]\n",
    "    lease_remaining = row[9]                 \n",
    "    resale_price = row[10]\n",
    "    longitude = row[12]\n",
    "    latitude = row[13]\n",
    "    \n",
    "    row[6] = float(floor_area_sqm)\n",
    "    \n",
    "    # If lease_remaining info is of string data type\n",
    "    if isinstance(lease_remaining,str):\n",
    "        row[9] = int(lease_remaining[:2]) # Get years of lease remaining with slicing, and convert it to int type\n",
    "   \n",
    "    row[10] = float(resale_price)\n",
    "    \n",
    "    if longitude == '':\n",
    "        row[12] = 0\n",
    "    else:\n",
    "        row[12] = float(longitude)\n",
    "        \n",
    "    if latitude == '':\n",
    "        row[13] = 0\n",
    "    else:\n",
    "        row[13] = float(latitude)\n",
    "\n",
    "print(hdb_resale_listings[:5]) # Print first 5 rows of data"
   ]
  },
  {
   "cell_type": "markdown",
   "metadata": {},
   "source": [
    "For visualisation purpose, a snippet of the cleaned data stored in the variable is displayed <code>hdb_resale_listings</code> in a tabular format. "
   ]
  },
  {
   "cell_type": "code",
   "execution_count": 5,
   "metadata": {},
   "outputs": [
    {
     "data": {
      "text/html": [
       "<div>\n",
       "<style scoped>\n",
       "    .dataframe tbody tr th:only-of-type {\n",
       "        vertical-align: middle;\n",
       "    }\n",
       "\n",
       "    .dataframe tbody tr th {\n",
       "        vertical-align: top;\n",
       "    }\n",
       "\n",
       "    .dataframe thead th {\n",
       "        text-align: right;\n",
       "    }\n",
       "</style>\n",
       "<table border=\"1\" class=\"dataframe\">\n",
       "  <thead>\n",
       "    <tr style=\"text-align: right;\">\n",
       "      <th></th>\n",
       "      <th>month</th>\n",
       "      <th>town</th>\n",
       "      <th>flat_type</th>\n",
       "      <th>block</th>\n",
       "      <th>street_name</th>\n",
       "      <th>storey_range</th>\n",
       "      <th>floor_area_sqm</th>\n",
       "      <th>flat_model</th>\n",
       "      <th>lease_commence_date</th>\n",
       "      <th>remaining_lease</th>\n",
       "      <th>resale_price</th>\n",
       "      <th>address</th>\n",
       "      <th>Longitude</th>\n",
       "      <th>Latitude</th>\n",
       "    </tr>\n",
       "  </thead>\n",
       "  <tbody>\n",
       "    <tr>\n",
       "      <th>0</th>\n",
       "      <td>2017-01</td>\n",
       "      <td>ANG MO KIO</td>\n",
       "      <td>2 ROOM</td>\n",
       "      <td>406</td>\n",
       "      <td>ANG MO KIO AVE 10</td>\n",
       "      <td>10 TO 12</td>\n",
       "      <td>44.0</td>\n",
       "      <td>Improved</td>\n",
       "      <td>1979</td>\n",
       "      <td>61</td>\n",
       "      <td>232000.0</td>\n",
       "      <td>406 ANG MO KIO AVE 10</td>\n",
       "      <td>103.853880</td>\n",
       "      <td>1.362005</td>\n",
       "    </tr>\n",
       "    <tr>\n",
       "      <th>1</th>\n",
       "      <td>2017-01</td>\n",
       "      <td>ANG MO KIO</td>\n",
       "      <td>3 ROOM</td>\n",
       "      <td>108</td>\n",
       "      <td>ANG MO KIO AVE 4</td>\n",
       "      <td>01 TO 03</td>\n",
       "      <td>67.0</td>\n",
       "      <td>New Generation</td>\n",
       "      <td>1978</td>\n",
       "      <td>60</td>\n",
       "      <td>250000.0</td>\n",
       "      <td>108 ANG MO KIO AVE 4</td>\n",
       "      <td>103.838202</td>\n",
       "      <td>1.370966</td>\n",
       "    </tr>\n",
       "    <tr>\n",
       "      <th>2</th>\n",
       "      <td>2017-01</td>\n",
       "      <td>ANG MO KIO</td>\n",
       "      <td>3 ROOM</td>\n",
       "      <td>602</td>\n",
       "      <td>ANG MO KIO AVE 5</td>\n",
       "      <td>01 TO 03</td>\n",
       "      <td>67.0</td>\n",
       "      <td>New Generation</td>\n",
       "      <td>1980</td>\n",
       "      <td>62</td>\n",
       "      <td>262000.0</td>\n",
       "      <td>602 ANG MO KIO AVE 5</td>\n",
       "      <td>103.835368</td>\n",
       "      <td>1.380709</td>\n",
       "    </tr>\n",
       "    <tr>\n",
       "      <th>3</th>\n",
       "      <td>2017-01</td>\n",
       "      <td>ANG MO KIO</td>\n",
       "      <td>3 ROOM</td>\n",
       "      <td>465</td>\n",
       "      <td>ANG MO KIO AVE 10</td>\n",
       "      <td>04 TO 06</td>\n",
       "      <td>68.0</td>\n",
       "      <td>New Generation</td>\n",
       "      <td>1980</td>\n",
       "      <td>62</td>\n",
       "      <td>265000.0</td>\n",
       "      <td>465 ANG MO KIO AVE 10</td>\n",
       "      <td>103.857201</td>\n",
       "      <td>1.366201</td>\n",
       "    </tr>\n",
       "    <tr>\n",
       "      <th>4</th>\n",
       "      <td>2017-01</td>\n",
       "      <td>ANG MO KIO</td>\n",
       "      <td>3 ROOM</td>\n",
       "      <td>601</td>\n",
       "      <td>ANG MO KIO AVE 5</td>\n",
       "      <td>01 TO 03</td>\n",
       "      <td>67.0</td>\n",
       "      <td>New Generation</td>\n",
       "      <td>1980</td>\n",
       "      <td>62</td>\n",
       "      <td>265000.0</td>\n",
       "      <td>601 ANG MO KIO AVE 5</td>\n",
       "      <td>103.835132</td>\n",
       "      <td>1.381041</td>\n",
       "    </tr>\n",
       "  </tbody>\n",
       "</table>\n",
       "</div>"
      ],
      "text/plain": [
       "     month        town flat_type block        street_name storey_range  \\\n",
       "0  2017-01  ANG MO KIO    2 ROOM   406  ANG MO KIO AVE 10     10 TO 12   \n",
       "1  2017-01  ANG MO KIO    3 ROOM   108   ANG MO KIO AVE 4     01 TO 03   \n",
       "2  2017-01  ANG MO KIO    3 ROOM   602   ANG MO KIO AVE 5     01 TO 03   \n",
       "3  2017-01  ANG MO KIO    3 ROOM   465  ANG MO KIO AVE 10     04 TO 06   \n",
       "4  2017-01  ANG MO KIO    3 ROOM   601   ANG MO KIO AVE 5     01 TO 03   \n",
       "\n",
       "   floor_area_sqm      flat_model lease_commence_date  remaining_lease  \\\n",
       "0            44.0        Improved                1979               61   \n",
       "1            67.0  New Generation                1978               60   \n",
       "2            67.0  New Generation                1980               62   \n",
       "3            68.0  New Generation                1980               62   \n",
       "4            67.0  New Generation                1980               62   \n",
       "\n",
       "   resale_price                address   Longitude  Latitude  \n",
       "0      232000.0  406 ANG MO KIO AVE 10  103.853880  1.362005  \n",
       "1      250000.0   108 ANG MO KIO AVE 4  103.838202  1.370966  \n",
       "2      262000.0   602 ANG MO KIO AVE 5  103.835368  1.380709  \n",
       "3      265000.0  465 ANG MO KIO AVE 10  103.857201  1.366201  \n",
       "4      265000.0   601 ANG MO KIO AVE 5  103.835132  1.381041  "
      ]
     },
     "execution_count": 5,
     "metadata": {},
     "output_type": "execute_result"
    }
   ],
   "source": [
    "hdb_resale_df = pd.DataFrame(hdb_resale_listings, columns = hdb_resale_listings_headers)\n",
    "hdb_resale_df.head()"
   ]
  },
  {
   "cell_type": "markdown",
   "metadata": {},
   "source": [
    "2.Data Preparation & Visualisation of Resale Flats and Their Average Cost\n",
    "===\n",
    "***"
   ]
  },
  {
   "cell_type": "markdown",
   "metadata": {},
   "source": [
    "2a. Calculate the Number of Resale Flats in Each Town\n",
    "==="
   ]
  },
  {
   "cell_type": "code",
   "execution_count": 14,
   "metadata": {},
   "outputs": [
    {
     "name": "stdout",
     "output_type": "stream",
     "text": [
      "{'SENGKANG': 5731, 'WOODLANDS': 5585, 'JURONG WEST': 5535, 'YISHUN': 5449, 'TAMPINES': 4679, 'PUNGGOL': 4520, 'BEDOK': 3912, 'HOUGANG': 3443, 'ANG MO KIO': 3313, 'CHOA CHU KANG': 3035, 'BUKIT MERAH': 2873, 'BUKIT PANJANG': 2836, 'BUKIT BATOK': 2724, 'TOA PAYOH': 2425, 'PASIR RIS': 2148, 'KALLANG/WHAMPOA': 2112, 'SEMBAWANG': 1946, 'QUEENSTOWN': 1927, 'GEYLANG': 1759, 'JURONG EAST': 1627, 'CLEMENTI': 1600, 'SERANGOON': 1473, 'BISHAN': 1427, 'CENTRAL AREA': 604, 'MARINE PARADE': 430, 'BUKIT TIMAH': 207}\n"
     ]
    }
   ],
   "source": [
    "resale_counts_by_town = {}  # Populate this dictionary with counts\n",
    "\n",
    "## Function to iterate through HDB dataset and store in a new dictionary\n",
    "import operator\n",
    "def flat_count(database):\n",
    "    resale_counts_by_town = {}\n",
    "    for row in database:\n",
    "        resale_count = row[1]\n",
    "        if resale_count in resale_counts_by_town:\n",
    "            resale_counts_by_town[resale_count] += 1\n",
    "        else:\n",
    "            resale_counts_by_town[resale_count] = 1\n",
    "    return resale_counts_by_town\n",
    "resale_counts_by_town = flat_count(hdb_resale_listings)\n",
    "\n",
    "# sort dictionary in descending order\n",
    "resale_counts_sorted_desc = dict(sorted(resale_counts_by_town.items(), key=operator.itemgetter(1),reverse=True)) \n",
    "print(resale_counts_sorted_desc) \n",
    "\n",
    "\n",
    "\n",
    "\n",
    "\n",
    "\n",
    "\n"
   ]
  },
  {
   "cell_type": "markdown",
   "metadata": {},
   "source": [
    "2b.: Data Visualisation on the Number of Resale Flats in Each Town \n",
    "---\n",
    "\n"
   ]
  },
  {
   "cell_type": "code",
   "execution_count": 8,
   "metadata": {},
   "outputs": [
    {
     "data": {
      "image/png": "[encoded data removed]",
      "text/plain": [
       "<Figure size 432x288 with 1 Axes>"
      ]
     },
     "metadata": {
      "needs_background": "light"
     },
     "output_type": "display_data"
    }
   ],
   "source": [
    "\n",
    "# Import matplotlib library\n",
    "import matplotlib.pyplot as plt\n",
    "import warnings\n",
    "warnings.filterwarnings(\"ignore\")\n",
    "\n",
    "##using list comprehension method to iterate and sort data in descending order\n",
    "town_list = [k for k in resale_counts_sorted_desc.keys()] \n",
    "resale_count = [v for v in resale_counts_sorted_desc.values()] \n",
    "\n",
    "##bar chart plotting for data visualisation\n",
    "fig, ax = plt.subplots()\n",
    "ax.bar(town_list, resale_count)\n",
    "ax.set_xticklabels(town_list, rotation=90)\n",
    "ax.set_ylabel('Number of Resale Flats')\n",
    "ax.set_title('Counts of Resale Flats from Jan 2017 to June 2020')\n",
    "plt.show()\n",
    "\n",
    "\n",
    "\n",
    "\n",
    "\n",
    "\n"
   ]
  },
  {
   "cell_type": "markdown",
   "metadata": {},
   "source": [
    "We observe that developing estates such as **Sengkang, Punggol, and Woodlands** tend to have a much higher volume of resale flats compared to mature estates such as Bishan and Marine Parade, which do not have as much land parcels available for development. \n",
    "\n",
    "These difference in resale volume could be due to:\n",
    "- **Young couples upgrading from their initial BTOs** in nearby areas (more prevalent in areas such as Sengkang, Punggol, Woodlands)\n",
    "- **Potential for housing appreciation** in developing estates like Sengkang and Punggol due to new amenities being developed"
   ]
  },
  {
   "cell_type": "markdown",
   "metadata": {},
   "source": [
    "2c.: Calculate the Total Sale Value of Resale Flats in Each Town\n",
    "---\n",
    "\n"
   ]
  },
  {
   "cell_type": "code",
   "execution_count": 12,
   "metadata": {},
   "outputs": [
    {
     "name": "stdout",
     "output_type": "stream",
     "text": [
      "{'ANG MO KIO': 1357482312.0, 'BEDOK': 1601193885.0, 'BISHAN': 916235793.0, 'BUKIT BATOK': 1028796332.75, 'BUKIT MERAH': 1620070583.88, 'BUKIT PANJANG': 1209331600.0, 'BUKIT TIMAH': 147040354.0, 'CENTRAL AREA': 372667936.0, 'CHOA CHU KANG': 1171810776.0, 'CLEMENTI': 753674417.0, 'GEYLANG': 752338254.0, 'HOUGANG': 1485745756.88, 'JURONG EAST': 672843405.0, 'JURONG WEST': 2152691662.6400003, 'KALLANG/WHAMPOA': 1043695205.0, 'MARINE PARADE': 220658748.0, 'PASIR RIS': 1056249716.0, 'PUNGGOL': 2048804431.88, 'QUEENSTOWN': 1069608566.76, 'SEMBAWANG': 737883437.88, 'SENGKANG': 2496125484.76, 'SERANGOON': 722415279.0, 'TAMPINES': 2215182529.0, 'TOA PAYOH': 1189419991.0, 'WOODLANDS': 2105555068.88, 'YISHUN': 1977662848.0}\n"
     ]
    }
   ],
   "source": [
    "## Function to iterate through HDB dataset and store in a new dictionary town_resale_value_total\n",
    "\n",
    "def flat_price(database):\n",
    "    town_resale_value_total = {}\n",
    "    for row in database:\n",
    "        estate = row[1]\n",
    "        resale_price = float(row[10])\n",
    "        if estate in town_resale_value_total:\n",
    "            town_resale_value_total[estate] += resale_price\n",
    "        else:\n",
    "            town_resale_value_total[estate] = resale_price\n",
    "    return town_resale_value_total\n",
    "resale_price_by_town = flat_price(hdb_resale_listings)\n",
    "print(resale_price_by_town)\n",
    "\n",
    "\n",
    "\n",
    "\n",
    "\n",
    "\n",
    "\n",
    "\n",
    "\n",
    "\n",
    "\n",
    "\n",
    "\n",
    "\n",
    "\n"
   ]
  },
  {
   "cell_type": "markdown",
   "metadata": {},
   "source": [
    "2d.: Calculate the Average Resale Value in Each Town\n",
    "---\n",
    "\n"
   ]
  },
  {
   "cell_type": "code",
   "execution_count": 42,
   "metadata": {},
   "outputs": [
    {
     "name": "stdout",
     "output_type": "stream",
     "text": [
      "{'BUKIT TIMAH': 710340, 'BISHAN': 642071, 'CENTRAL AREA': 617000, 'BUKIT MERAH': 563895, 'QUEENSTOWN': 555064, 'MARINE PARADE': 513160, 'KALLANG/WHAMPOA': 494174, 'PASIR RIS': 491736, 'TOA PAYOH': 490482, 'SERANGOON': 490438, 'TAMPINES': 473431, 'CLEMENTI': 471047, 'PUNGGOL': 453275, 'SENGKANG': 435548, 'HOUGANG': 431527, 'GEYLANG': 427708, 'BUKIT PANJANG': 426422, 'JURONG EAST': 413548, 'ANG MO KIO': 409744, 'BEDOK': 409303, 'JURONG WEST': 388924, 'CHOA CHU KANG': 386099, 'SEMBAWANG': 379180, 'BUKIT BATOK': 377679, 'WOODLANDS': 377002, 'YISHUN': 362941}\n"
     ]
    }
   ],
   "source": [
    "import operator\n",
    "## Iterations to loop over data values of dictionary in town_resale_value_tota, resale_counts_by_town and compute the average\n",
    "town_resale_average = {}\n",
    "for k in resale_counts_by_town.keys():\n",
    "    town_resale_average[k] = round(resale_price_by_town[k] / resale_counts_by_town[k])\n",
    "print(dict(sorted(town_resale_average.items(), key=operator.itemgetter(1),reverse=True))) # sort in descending order\n"
   ]
  },
  {
   "cell_type": "markdown",
   "metadata": {},
   "source": [
    "2e.: Data Visualisation on the Average Resale Value in Each Town\n",
    "---\n",
    "\n"
   ]
  },
  {
   "cell_type": "code",
   "execution_count": 36,
   "metadata": {},
   "outputs": [
    {
     "data": {
      "image/png": "[encoded data removed]",
      "text/plain": [
       "<Figure size 432x288 with 1 Axes>"
      ]
     },
     "metadata": {
      "needs_background": "light"
     },
     "output_type": "display_data"
    }
   ],
   "source": [
    "import matplotlib.pyplot as plt\n",
    "import warnings\n",
    "warnings.filterwarnings(\"ignore\")\n",
    "\n",
    "town_list = list(town_resale_average.keys()) ##Transfer keys data in town_resale_average into seperate list\n",
    "resale_average = list(town_resale_average.values()) ##Transfer values data in town_resale_average into seperate list\n",
    "\n",
    "##bar chart plotting for data visualisation\n",
    "fig, ax = plt.subplots()\n",
    "ax.bar(town_list, resale_average)\n",
    "ax.set_xticklabels(town_list, rotation=90)\n",
    "ax.set_ylabel('Average Resale Value')\n",
    "ax.set_title('Average Resale Value in Each Town')\n",
    "plt.show()\n",
    "\n",
    "\n",
    "\n",
    "\n",
    "\n",
    "\n",
    "\n",
    "\n",
    "\n",
    "\n",
    "\n",
    "\n",
    "\n",
    "\n"
   ]
  },
  {
   "cell_type": "markdown",
   "metadata": {},
   "source": [
    "Unsurprisingly, **HDB flats in central areas like Bukit Timah and Bishan have some of the highest resale values**. The convenience of living in these areas also contribute to the huge demand of BTO flats there; getting a BTO in these areas is almost like striking the lottery!\n",
    "\n",
    "One interesting observation is the surprisingly high resale value of Punggol flats relative to other towns. While some may have the impression that Punggol flats are inaccessible and not desirable, the average resale value tells a different story. Observe that Punggol's resale value is markedly higher than areas like Ang Mo Kio and Bedok. In addition, the average resale value of Punggol flats is not that far off from matured estates like Clementi, Tampines & Serangoon.\n",
    "\n",
    "A potential follow-up visualisation would be a time-series analysis of the Punggol HDB resale values over the years, and one might discover significant capital appreciation opportunities for Punggol BTO owners in the resale market!"
   ]
  },
  {
   "cell_type": "markdown",
   "metadata": {},
   "source": [
    "2f.: Is the Lease an Important Factor in the HDB Resale Price?\n",
    "---\n",
    "\n",
    "   "
   ]
  },
  {
   "cell_type": "code",
   "execution_count": 44,
   "metadata": {},
   "outputs": [
    {
     "data": {
      "image/png": "[encoded data removed]",
      "text/plain": [
       "<Figure size 432x288 with 1 Axes>"
      ]
     },
     "metadata": {
      "needs_background": "light"
     },
     "output_type": "display_data"
    }
   ],
   "source": [
    "##Itenrations to compute, store and sort the average resale price based on remaing lease years in a dictionary\n",
    "average_resale_for_lease_year_remaining = {}\n",
    "lease_year_remaining_count = {}\n",
    "lease_year_remaining_resale_price = {} \n",
    "for row in hdb_resale_listings:\n",
    "    lease_year = row[9]\n",
    "    resale_price = row[10]\n",
    "    if lease_year in lease_year_remaining_resale_price:\n",
    "        lease_year_remaining_resale_price[lease_year] += resale_price\n",
    "        lease_year_remaining_count[lease_year] += 1\n",
    "    else:\n",
    "        lease_year_remaining_resale_price[lease_year] = resale_price\n",
    "        lease_year_remaining_count[lease_year] = 1\n",
    "\n",
    "for k in lease_year_remaining_resale_price.keys():\n",
    "    average_resale_for_lease_year_remaining[k] = round(lease_year_remaining_resale_price[k] / lease_year_remaining_count[k])\n",
    "average_resale_for_lease_year_remaining = dict(sorted(average_resale_for_lease_year_remaining.items(),key = operator.itemgetter(0)))\n",
    "\n",
    "lease = list(average_resale_for_lease_year_remaining.keys())\n",
    "average_resale_value = list(average_resale_for_lease_year_remaining.values())\n",
    "\n",
    "##bar chart plotting for data visualisation\n",
    "fix, ax = plt.subplots()\n",
    "ax.plot(lease, average_resale_value, linestyle='-', marker='D')\n",
    "\n",
    "ax.set_xlabel('Lease Remaning')\n",
    "ax.set_ylabel('Resale Value')\n",
    "\n",
    "ax.set_title('Average Resale Value for Lease Years Remaning')\n",
    "\n",
    "plt.show()\n",
    "\n",
    "\n",
    "\n",
    "\n",
    "\n"
   ]
  },
  {
   "cell_type": "markdown",
   "metadata": {},
   "source": [
    "Despite Minister Mah Bow Tan's [sweeping claim](https://omh.sg/blog/post/minister-lawrence-wongs-comments-how-story-unfolded) in 2011 that HDB is an asset that will appreciate in value over time, the above chart clearly shows that this is a flawed notion. This line plot illustrates a close correlation between the remaining lease period and the resale value of flats sold after 2017, which can be corroborated with Minister Lawrence Wong's [blog post](https://mndsingapore.wordpress.com/2017/03/24/choosing-a-home-for-life/) in March 2017. If you are looking for a resale flat, it is important to exercise caution for HDB resale flats with short leases.\n",
    "\n",
    "Another observation from this chart is that, BTO owners who sell their flats near the Minimum Occupancy Period (MOP), with about 90 years of lease remaining, are likely to gain maximum resale value out of on their subsidised flats!"
   ]
  },
  {
   "cell_type": "markdown",
   "metadata": {},
   "source": [
    "2g.: What is the Correlation between Floor Area and Resale Price?\n",
    "---\n",
    "\n"
   ]
  },
  {
   "cell_type": "code",
   "execution_count": 38,
   "metadata": {},
   "outputs": [
    {
     "data": {
      "text/html": [
       "<div>\n",
       "<style scoped>\n",
       "    .dataframe tbody tr th:only-of-type {\n",
       "        vertical-align: middle;\n",
       "    }\n",
       "\n",
       "    .dataframe tbody tr th {\n",
       "        vertical-align: top;\n",
       "    }\n",
       "\n",
       "    .dataframe thead th {\n",
       "        text-align: right;\n",
       "    }\n",
       "</style>\n",
       "<table border=\"1\" class=\"dataframe\">\n",
       "  <thead>\n",
       "    <tr style=\"text-align: right;\">\n",
       "      <th></th>\n",
       "      <th>month</th>\n",
       "      <th>town</th>\n",
       "      <th>flat_type</th>\n",
       "      <th>block</th>\n",
       "      <th>street_name</th>\n",
       "      <th>storey_range</th>\n",
       "      <th>floor_area_sqm</th>\n",
       "      <th>flat_model</th>\n",
       "      <th>lease_commence_date</th>\n",
       "      <th>remaining_lease</th>\n",
       "      <th>resale_price</th>\n",
       "      <th>address</th>\n",
       "      <th>Longitude</th>\n",
       "      <th>Latitude</th>\n",
       "    </tr>\n",
       "  </thead>\n",
       "  <tbody>\n",
       "    <tr>\n",
       "      <th>0</th>\n",
       "      <td>2017-01</td>\n",
       "      <td>ANG MO KIO</td>\n",
       "      <td>2 ROOM</td>\n",
       "      <td>406</td>\n",
       "      <td>ANG MO KIO AVE 10</td>\n",
       "      <td>10 TO 12</td>\n",
       "      <td>44.0</td>\n",
       "      <td>Improved</td>\n",
       "      <td>1979</td>\n",
       "      <td>61</td>\n",
       "      <td>232000.0</td>\n",
       "      <td>406 ANG MO KIO AVE 10</td>\n",
       "      <td>103.853880</td>\n",
       "      <td>1.362005</td>\n",
       "    </tr>\n",
       "    <tr>\n",
       "      <th>1</th>\n",
       "      <td>2017-01</td>\n",
       "      <td>ANG MO KIO</td>\n",
       "      <td>3 ROOM</td>\n",
       "      <td>108</td>\n",
       "      <td>ANG MO KIO AVE 4</td>\n",
       "      <td>01 TO 03</td>\n",
       "      <td>67.0</td>\n",
       "      <td>New Generation</td>\n",
       "      <td>1978</td>\n",
       "      <td>60</td>\n",
       "      <td>250000.0</td>\n",
       "      <td>108 ANG MO KIO AVE 4</td>\n",
       "      <td>103.838202</td>\n",
       "      <td>1.370966</td>\n",
       "    </tr>\n",
       "    <tr>\n",
       "      <th>2</th>\n",
       "      <td>2017-01</td>\n",
       "      <td>ANG MO KIO</td>\n",
       "      <td>3 ROOM</td>\n",
       "      <td>602</td>\n",
       "      <td>ANG MO KIO AVE 5</td>\n",
       "      <td>01 TO 03</td>\n",
       "      <td>67.0</td>\n",
       "      <td>New Generation</td>\n",
       "      <td>1980</td>\n",
       "      <td>62</td>\n",
       "      <td>262000.0</td>\n",
       "      <td>602 ANG MO KIO AVE 5</td>\n",
       "      <td>103.835368</td>\n",
       "      <td>1.380709</td>\n",
       "    </tr>\n",
       "  </tbody>\n",
       "</table>\n",
       "</div>"
      ],
      "text/plain": [
       "     month        town flat_type block        street_name storey_range  \\\n",
       "0  2017-01  ANG MO KIO    2 ROOM   406  ANG MO KIO AVE 10     10 TO 12   \n",
       "1  2017-01  ANG MO KIO    3 ROOM   108   ANG MO KIO AVE 4     01 TO 03   \n",
       "2  2017-01  ANG MO KIO    3 ROOM   602   ANG MO KIO AVE 5     01 TO 03   \n",
       "\n",
       "   floor_area_sqm      flat_model lease_commence_date  remaining_lease  \\\n",
       "0            44.0        Improved                1979               61   \n",
       "1            67.0  New Generation                1978               60   \n",
       "2            67.0  New Generation                1980               62   \n",
       "\n",
       "   resale_price                address   Longitude  Latitude  \n",
       "0      232000.0  406 ANG MO KIO AVE 10  103.853880  1.362005  \n",
       "1      250000.0   108 ANG MO KIO AVE 4  103.838202  1.370966  \n",
       "2      262000.0   602 ANG MO KIO AVE 5  103.835368  1.380709  "
      ]
     },
     "execution_count": 38,
     "metadata": {},
     "output_type": "execute_result"
    }
   ],
   "source": [
    "hdb_resale_df.head(3)   # Using pandas to help you visualise columns in the dataset"
   ]
  },
  {
   "cell_type": "code",
   "execution_count": 39,
   "metadata": {},
   "outputs": [
    {
     "data": {
      "image/png": "[encoded data removed]",
      "text/plain": [
       "<Figure size 1296x864 with 1 Axes>"
      ]
     },
     "metadata": {
      "needs_background": "light"
     },
     "output_type": "display_data"
    }
   ],
   "source": [
    "##Iterate to append floor area and resale price data into seperate lists\n",
    "floor_area = []\n",
    "resale = []\n",
    "\n",
    "for row in hdb_resale_listings:\n",
    "    floor_area.append(row[6])\n",
    "    resale.append(row[10])\n",
    "\n",
    "##Construct scatterplot for data visualisation\n",
    "fig, ax = plt.subplots(figsize=(18,12))\n",
    "ax.scatter(floor_area, resale)\n",
    "ax.set_xlabel('Floor Area (in square metres)')\n",
    "ax.set_ylabel('Sale Price (in million SGD)')\n",
    "ax.set_title('Relationship Between Floor Area & and Resale Price')\n",
    "plt.show()\n",
    "\n",
    "\n",
    "\n",
    "\n",
    "\n",
    "\n",
    "\n",
    "\n"
   ]
  },
  {
   "cell_type": "markdown",
   "metadata": {},
   "source": [
    "The scatterplot above shows that <b>floor area is closely and positively correlated with HDB resale prices</b>, with some variance that can likely be attributed to their locations (as investigated above). If you're looking for a large HDB flat, be prepared to pay!"
   ]
  },
  {
   "cell_type": "markdown",
   "metadata": {},
   "source": [
    "2h.: Comparing Selected 4 Room Flats in Singapore\n",
    "---\n",
    "   "
   ]
  },
  {
   "cell_type": "code",
   "execution_count": 40,
   "metadata": {},
   "outputs": [
    {
     "name": "stdout",
     "output_type": "stream",
     "text": [
      "[350000.0, 370000.0, 370000.0, 380000.0, 408000.0]\n",
      "[370000.0, 385000.0, 394000.0, 395000.0, 398000.0]\n",
      "[288000.0, 295000.0, 300000.0, 306000.0, 323000.0]\n",
      "[385000.0, 397000.0, 425000.0, 440000.0, 461000.0]\n",
      "[300000.0, 300000.0, 305000.0, 310000.0, 315000.0]\n"
     ]
    }
   ],
   "source": [
    "## This cell provides starter code that extracts 4-room resale flat prices\n",
    "## in 5 towns: Punggol, Tampines, Woodlands, Clementi and Yishun.\n",
    "\n",
    "##Iterations to append prices of selected 4 room flats from different towns into individual lists\n",
    "punggol = []\n",
    "tampines = []\n",
    "woodlands = []\n",
    "clementi = []\n",
    "yishun = []\n",
    "\n",
    "for row in hdb_resale_listings:\n",
    "    \n",
    "    if row[2] == '4 ROOM':\n",
    "        \n",
    "        town = row[1]\n",
    "        \n",
    "        if town == 'PUNGGOL':\n",
    "            punggol.append(row[10])\n",
    "            \n",
    "        elif town == 'TAMPINES':\n",
    "            tampines.append(row[10])\n",
    "            \n",
    "        elif town == 'WOODLANDS':\n",
    "            woodlands.append(row[10])\n",
    "            \n",
    "        elif town == 'CLEMENTI':\n",
    "            clementi.append(row[10])\n",
    "            \n",
    "        elif town == 'YISHUN':\n",
    "            yishun.append(row[10])\n",
    "     \n",
    "    \n",
    "# Print the first 5 items in each list\n",
    "print(punggol[:5])\n",
    "print(tampines[:5])\n",
    "print(woodlands[:5])\n",
    "print(clementi[:5])\n",
    "print(yishun[:5])"
   ]
  },
  {
   "cell_type": "code",
   "execution_count": 41,
   "metadata": {
    "scrolled": true
   },
   "outputs": [
    {
     "data": {
      "image/png": "[encoded data removed]",
      "text/plain": [
       "<Figure size 432x288 with 1 Axes>"
      ]
     },
     "metadata": {
      "needs_background": "light"
     },
     "output_type": "display_data"
    }
   ],
   "source": [
    "##Construct boxplot for data visualisation\n",
    "fix, ax = plt.subplots()\n",
    "ax.boxplot([punggol, tampines, woodlands, clementi, yishun])\n",
    "\n",
    "ax.set_xticklabels([\"Punggol\", \"Tampnies\", \"Woodlands\", \"Clementi\", \"Yishun\"])\n",
    "ax.set_ylabel('Resale Value (in SGD)')\n",
    "\n",
    "ax.set_title('Resale Value of 4-Room flats from Jan 2017 to Jun 2020')\n",
    "\n",
    "plt.show()\n",
    "\n",
    "\n",
    "\n",
    "\n",
    "\n",
    "\n"
   ]
  },
  {
   "cell_type": "markdown",
   "metadata": {},
   "source": [
    "From the boxplot, we see that **4-room resale flats in Clementi tend to cost more and can have a huge variance in price**. If you're on a very tight budget, a resale flat in Woodlands may be the optimal choice. 4-room resales flats in Punggol and Tampines have similar prices, so **it would be helpful to zoom into Punggol & Tampines estates and compare the amenities available** to specific flats and sub-areas in each town, in order to make a more informed decision."
   ]
  },
  {
   "cell_type": "markdown",
   "metadata": {},
   "source": [
    "2i.: Constructing a Heatmap of all 4 room resale listings in Singapore\n",
    "---\n"
   ]
  },
  {
   "cell_type": "code",
   "execution_count": 42,
   "metadata": {
    "scrolled": true
   },
   "outputs": [
    {
     "data": {
      "text/plain": [
       "<folium.plugins.heat_map.HeatMap at 0x19ba3a6e550>"
      ]
     },
     "execution_count": 42,
     "metadata": {},
     "output_type": "execute_result"
    }
   ],
   "source": [
    "## Import the folium library and HeatMap folium plugin here\n",
    "\n",
    "\n",
    "## Write your code below\n",
    "lat_long = []\n",
    "for row in hdb_resale_listings:\n",
    "    if row[2] == '4 ROOM':\n",
    "        long = row[12]\n",
    "        lat = row[13]\n",
    "        lat_long.append([row[13], row[12]])\n",
    "\n",
    "import folium\n",
    "from folium.plugins import HeatMap\n",
    "\n",
    "# Create a folium map object\n",
    "HDB_heatmap = folium.Map([1.357,103.826], height=350, width=800, zoom_start=11.4)\n",
    "\n",
    "# Pass in latitude and longitude data and HeatMap configurations. Add the generated HeatMap to the base map\n",
    "HeatMap(lat_long, radius=8, gradient={0.2:'blue',0.4:'purple',0.6:'orange',1.0:'red'}).add_to(HDB_heatmap) \n",
    "\n",
    "display(HDB_Resale_map)\n",
    "\n",
    "\n",
    "\n",
    "\n",
    "\n"
   ]
  },
  {
   "cell_type": "markdown",
   "metadata": {},
   "source": [
    "2i.: Constructing a Folium Marker Cluster of all 4 room resale listings in Singapore\n",
    "---\n"
   ]
  },
  {
   "cell_type": "code",
   "execution_count": 43,
   "metadata": {
    "scrolled": true
   },
   "outputs": [],
   "source": [
    "# Import the MarkerCluster folium plugin\n",
    "from folium.plugins import MarkerCluster\n",
    "\n",
    "# Create a folium map object\n",
    "HDB_Resale_map = folium.Map([1.357,103.826], height = 550, width = 900, zoom_start = 11.5)\n",
    "# Create a layer to store all the marker cluster\n",
    "markercluster = MarkerCluster().add_to(HDB_Resale_map)\n",
    "for row in hdb_resale_listings:\n",
    "    if row[2] == '4 ROOM':\n",
    "        long = row[12]\n",
    "        lat = row[13]\n",
    "        sales = row[10]\n",
    "        location = row[11]\n",
    "        floor = row[5]\n",
    "        size = row[6]\n",
    "        flat_type = row[2]\n",
    "# Create a marker object, and thereafter add it to the marker cluster layer we created earlier\n",
    "        folium.Marker( location=[lat,long], popup=\"Address: \"+ location+\"\\n\" +\"Type: \"+flat_type+\"\\n\"+\"Price:$\"+str(sales)+\"\\n\"+\"Floor: \"+floor+\"\\n\"+\"SQM: \"+str(size)+\"\\n\", tooltip='Click to view Price', icon=None,).add_to(markercluster)\n",
    "\n",
    "display(HDB_Resale_map)\n",
    "\n",
    "\n",
    "\n",
    "\n",
    "\n",
    "\n",
    "\n",
    "\n",
    "\n",
    "\n",
    "\n"
   ]
  }
 ],
 "metadata": {
  "kernelspec": {
   "display_name": "Python 3",
   "language": "python",
   "name": "python3"
  },
  "language_info": {
   "codemirror_mode": {
    "name": "ipython",
    "version": 3
   },
   "file_extension": ".py",
   "mimetype": "text/x-python",
   "name": "python",
   "nbconvert_exporter": "python",
   "pygments_lexer": "ipython3",
   "version": "3.8.8"
  }
 },
 "nbformat": 4,
 "nbformat_minor": 4
}
